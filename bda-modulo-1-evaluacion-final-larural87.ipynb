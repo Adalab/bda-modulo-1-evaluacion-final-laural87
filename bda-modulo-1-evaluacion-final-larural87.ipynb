{
 "cells": [
  {
   "cell_type": "markdown",
   "metadata": {},
   "source": [
    "## Ejercicio Evaluación Laura López"
   ]
  },
  {
   "cell_type": "code",
   "execution_count": 70,
   "metadata": {},
   "outputs": [],
   "source": [
    "class TiendaOnline:\n",
    "    def __init__(self):\n",
    "       \n",
    "    # Establecemos atributos\n",
    "        self.inventario = [] # lista de diccionarios representado como un diccionario con las siguientes claves:  'nombre' ,  'precio' , y  'cantidad\n",
    "        self.clientes = {} # Cada cliente debe ser representado como un diccionario con las siguientes claves:  'nombre'  y  'email y un historial de compras\n",
    "        self.ventas_totales = float(0.0) # numero de ventas totales en Float\n",
    "\n",
    "    # Establecemos métodos\n",
    "\n",
    "    def agregar_producto(self, nombre, precio, cantidad):\n",
    "        #creamos diccionario para nuevo producto\n",
    "        new_product = {'nombre': nombre, 'precio': precio, 'cantidad': cantidad} \n",
    "        \n",
    "        #comprobamos que el producto está en el inventario \n",
    "        for producto in self.inventario:\n",
    "            if producto['nombre'] == nombre:\n",
    "                producto['cantidad'] = cantidad #en el caso que quisieras actualizar sumando += cantidad\n",
    "                print(f'El producto {nombre} ya existe en el inventario. Actualizamos su cantidad a {cantidad}')\n",
    "                break # rompemos el bucle for\n",
    "\n",
    "        else:\n",
    "             # Si no está en el inventario incorporamos el producto en el inventario \n",
    "            self.inventario.append(new_product)\n",
    "            print(f'Hemos insertado  {cantidad} unidades de {nombre} en el inventarios con precio de {precio} ')\n",
    "\n",
    "    def ver_inventario(self):\n",
    "        for inventory in self.inventario: # creamos inventario\n",
    "            #creamos las variables a imprimir\n",
    "            product_name = inventory['nombre'].capitalize()\n",
    "            price = inventory['precio']\n",
    "            amount = inventory['cantidad']\n",
    "            print(f'Nombre: {product_name}, Precio: ${price}, Cantidad: {amount}')\n",
    "             \n",
    "    def buscar_producto(self, nombre):\n",
    "        #usamos el bucle for para recorrer el inventario\n",
    "        for product in self.inventario:\n",
    "            # creamos variables para imprimir \n",
    "            product_name = product['nombre'].capitalize()\n",
    "            price = product['precio']\n",
    "            amount = product['cantidad']\n",
    "            # comprobamos que el producto está en self.inventario\n",
    "            if product['nombre'] == nombre:\n",
    "                print(f'Nombre: {product_name}, Precio: ${price}, Cantidad: {amount}') \n",
    "                break #rompemos el bucle for\n",
    "        else:\n",
    "                print(f'El producto {nombre} no está en el inventario')\n",
    "\n",
    "    def actualizar_stock(self, nombre):\n",
    "        #usamos el bucle for para recorrer el inventario\n",
    "        for product in self.inventario:\n",
    "             # comprobamos que el producto está en self.inventario\n",
    "             if product['nombre'] == nombre:\n",
    "                useramount = int(input(f'Indica cantidad de producto {nombre} que quieres añadir o quitar'))\n",
    "                #sumamos al stock la cantidad de producto proporcionada por el usuario\n",
    "                cantidad = product['cantidad'] \n",
    "                cantidad += int(useramount)\n",
    "                print(f'Se ha actualizado el stock de {nombre}, la cantidad actual es {cantidad}')  \n",
    "                break    \n",
    "        else: \n",
    "            print(f'El producto {nombre} no está en el inventario')\n",
    "\n",
    "    \n",
    "    def eliminar_producto(self, nombre):\n",
    "        #usamos el bucle for para recorrer el inventario\n",
    "        for product in self.inventario:\n",
    "            if product['nombre'] == nombre:\n",
    "                self.inventario.remove(product)\n",
    "                print(f'Se ha eliminado {nombre} del inventario')\n",
    "                break\n",
    "        else:\n",
    "            print(f'No se ha encontrado nombre en el inventario')\n",
    "\n",
    "    def calcular_valor_inventario(self):\n",
    "        valor_inventario =[]\n",
    "        for product in self.inventario:\n",
    "            nombre = product['nombre']\n",
    "            cantidad = product['cantidad']\n",
    "            price = product['precio']\n",
    "            valor_product = cantidad * price\n",
    "            print(f'el valor de {nombre} con {cantidad} en stock a un precio de {price} es {valor_product} ')\n",
    "\n",
    "            valor_inventario.append(valor_product)\n",
    "        Total_inventario = sum(valor_inventario)\n",
    "        print(f'El valor total del inventario ${Total_inventario}')\n",
    "        "
   ]
  },
  {
   "cell_type": "code",
   "execution_count": 67,
   "metadata": {},
   "outputs": [
    {
     "name": "stdout",
     "output_type": "stream",
     "text": [
      "Hemos insertado  2 unidades de pantalones en el inventarios con precio de 14 \n"
     ]
    }
   ],
   "source": [
    "mitienda = TiendaOnline()\n",
    "\n",
    "mitienda.agregar_producto('pantalones', 14, 2)\n",
    "\n",
    "\n"
   ]
  },
  {
   "cell_type": "code",
   "execution_count": 68,
   "metadata": {},
   "outputs": [
    {
     "name": "stdout",
     "output_type": "stream",
     "text": [
      "El producto pantalones ya existe en el inventario. Actualizamos su cantidad a 50\n",
      "Hemos insertado  20 unidades de camiseta en el inventarios con precio de 10 \n",
      "Hemos insertado  25 unidades de calcetines en el inventarios con precio de 5 \n"
     ]
    }
   ],
   "source": [
    "mitienda.agregar_producto('pantalones', 14, 50)\n",
    "mitienda.agregar_producto('camiseta', 10, 20)\n",
    "mitienda.agregar_producto('calcetines', 5, 25)"
   ]
  },
  {
   "cell_type": "code",
   "execution_count": 26,
   "metadata": {},
   "outputs": [
    {
     "name": "stdout",
     "output_type": "stream",
     "text": [
      "Nombre: Pantalones, Precio: $14, Cantidad: 50\n",
      "Nombre: Camiseta, Precio: $10, Cantidad: 20\n",
      "Nombre: Calcetines, Precio: $5, Cantidad: 25\n"
     ]
    }
   ],
   "source": [
    "mitienda.ver_inventario()"
   ]
  },
  {
   "cell_type": "code",
   "execution_count": 27,
   "metadata": {},
   "outputs": [
    {
     "name": "stdout",
     "output_type": "stream",
     "text": [
      "El producto zapatillas no está en el inventario\n"
     ]
    }
   ],
   "source": [
    "mitienda.buscar_producto('zapatillas')"
   ]
  },
  {
   "cell_type": "code",
   "execution_count": 28,
   "metadata": {},
   "outputs": [
    {
     "name": "stdout",
     "output_type": "stream",
     "text": [
      "Se ha actualizado el stock de calcetines, la cantidad actual es 32\n"
     ]
    }
   ],
   "source": [
    "mitienda.actualizar_stock('calcetines')"
   ]
  },
  {
   "cell_type": "code",
   "execution_count": 29,
   "metadata": {},
   "outputs": [
    {
     "name": "stdout",
     "output_type": "stream",
     "text": [
      "Se ha eliminado calcetines del inventario\n"
     ]
    }
   ],
   "source": [
    "mitienda.eliminar_producto('calcetines')\n"
   ]
  },
  {
   "cell_type": "code",
   "execution_count": 30,
   "metadata": {},
   "outputs": [
    {
     "name": "stdout",
     "output_type": "stream",
     "text": [
      "Nombre: Pantalones, Precio: $14, Cantidad: 50\n",
      "Nombre: Camiseta, Precio: $10, Cantidad: 20\n"
     ]
    }
   ],
   "source": [
    "mitienda.ver_inventario()"
   ]
  },
  {
   "cell_type": "code",
   "execution_count": 69,
   "metadata": {},
   "outputs": [
    {
     "name": "stdout",
     "output_type": "stream",
     "text": [
      "el valor de pantalones con 50 en stock a un precio de 14 es 700 \n",
      "el valor de camiseta con 20 en stock a un precio de 10 es 200 \n",
      "el valor de calcetines con 25 en stock a un precio de 5 es 125 \n",
      " El calor total del inventario $1025\n"
     ]
    }
   ],
   "source": [
    "mitienda.calcular_valor_inventario()\n"
   ]
  }
 ],
 "metadata": {
  "kernelspec": {
   "display_name": "base",
   "language": "python",
   "name": "python3"
  },
  "language_info": {
   "codemirror_mode": {
    "name": "ipython",
    "version": 3
   },
   "file_extension": ".py",
   "mimetype": "text/x-python",
   "name": "python",
   "nbconvert_exporter": "python",
   "pygments_lexer": "ipython3",
   "version": "3.11.7"
  }
 },
 "nbformat": 4,
 "nbformat_minor": 2
}
