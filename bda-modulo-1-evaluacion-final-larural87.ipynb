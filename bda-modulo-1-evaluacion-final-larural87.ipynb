{
 "cells": [
  {
   "cell_type": "markdown",
   "metadata": {},
   "source": [
    "## Ejercicio Evaluación Laura López"
   ]
  },
  {
   "cell_type": "code",
   "execution_count": 16,
   "metadata": {},
   "outputs": [],
   "source": [
    "class TiendaOnline:\n",
    "\n",
    "    def __init__(self):\n",
    "       \n",
    "    # Establecemos atributos\n",
    "        self.inventario = [] # lista de diccionarios representado como un diccionario con las siguientes claves:  'nombre' ,  'precio' , y  'cantidad\n",
    "        self.clientes = {} # Cada cliente debe ser representado como un diccionario con las siguientes claves:  'nombre'  y  'email y un historial de compras\n",
    "        self.ventas_totales = float(0.0) # numero de ventas totales en Float\n",
    "\n",
    "    # Establecemos métodos\n",
    "\n",
    "    def agregar_producto(self, nombre, precio, cantidad):\n",
    "        #creamos diccionario para nuevo producto\n",
    "        new_product = {'nombre': nombre, 'precio': precio, 'cantidad': cantidad} \n",
    "        \n",
    "        #comprobamos que el producto está en el inventario \n",
    "        for producto in self.inventario:\n",
    "            if producto['nombre'] == nombre:\n",
    "                producto['cantidad'] = cantidad #en el caso que quisieras actualizar sumando += cantidad\n",
    "                print(f'El producto {nombre} ya existe en el inventario. Actualizamos su cantidad a {cantidad}')\n",
    "                break # rompemos el bucle for\n",
    "\n",
    "        else:\n",
    "             # Si no está en el inventario incorporamos el producto en el inventario \n",
    "            self.inventario.append(new_product)\n",
    "            print(f'Hemos insertado  {cantidad} unidades de {nombre} en el inventarios con precio de {precio} ')\n",
    "\n",
    "    def ver_inventario(self):\n",
    "        for inventory in self.inventario: # creamos inventario\n",
    "            #creamos las variables a imprimir\n",
    "            product_name = inventory['nombre'].capitalize()\n",
    "            price = inventory['precio']\n",
    "            amount = inventory['cantidad']\n",
    "            print(f'Nombre: {product_name}, Precio: ${price}, Cantidad: {amount}')\n",
    "             \n",
    "    def buscar_producto(self, nombre):\n",
    "        #usamos el bucle for para recorrer el inventario\n",
    "        for product in self.inventario:\n",
    "            # creamos variables para imprimir \n",
    "            product_name = product['nombre'].capitalize()\n",
    "            price = product['precio']\n",
    "            amount = product['cantidad']\n",
    "            # comprobamos que el producto está en self.inventario\n",
    "            if product['nombre'] == nombre:\n",
    "                print(f'Nombre: {product_name}, Precio: ${price}, Cantidad: {amount}') \n",
    "                break #rompemos el bucle for\n",
    "        else:\n",
    "                print(f'El producto {nombre} no está en el inventario')\n",
    "\n",
    "    def actualizar_stock(self, nombre):\n",
    "        #usamos el bucle for para recorrer el inventario\n",
    "        for product in self.inventario:\n",
    "             # comprobamos que el producto está en self.inventario\n",
    "             if product['nombre'] == nombre:\n",
    "                useramount = int(input(f'Indica cantidad de producto {nombre} que quieres añadir o quitar'))\n",
    "                #sumamos al stock la cantidad de producto proporcionada por el usuario\n",
    "                cantidad = product['cantidad'] \n",
    "                cantidad += int(useramount)\n",
    "                print(f'Se ha actualizado el stock de {nombre}, la cantidad actual es {cantidad}')  \n",
    "                break    \n",
    "        else: \n",
    "            print(f'El producto {nombre} no está en el inventario')\n",
    "\n",
    "    \n",
    "    def eliminar_producto(self, nombre):\n",
    "        #usamos el bucle for para recorrer el inventario\n",
    "        for product in self.inventario:\n",
    "            if product['nombre'] == nombre:\n",
    "                self.inventario.remove(product)\n",
    "                print(f'Se ha eliminado {nombre} del inventario')\n",
    "                break\n",
    "        else:\n",
    "            print(f'No se ha encontrado nombre en el inventario')\n",
    "\n",
    "    def calcular_valor_inventario(self):\n",
    "        # definimos una lista para almacenar el valor total\n",
    "        valor_inventario =[]\n",
    "        for product in self.inventario:\n",
    "            #creamos variables para el print y el cálculo de cada producto\n",
    "            nombre = product['nombre']\n",
    "            cantidad = product['cantidad']\n",
    "            price = product['precio']\n",
    "            valor_product = cantidad * price #Calculamos el valor de cada producto\n",
    "            print(f'El valor de {nombre} con {cantidad} en stock a un precio de {price} es ${valor_product} ')\n",
    "\n",
    "            valor_inventario.append(valor_product) #añadimos el valor total de producto a la lista creada valor de inventario  \n",
    "\n",
    "        Total_inventario = sum(valor_inventario) #sumamos todos los valores de la lista\n",
    "        print(f'El valor total del inventario ${Total_inventario}')\n",
    "\n",
    "    def realizar_compra(self):\n",
    "        carrito = []\n",
    "        precios = []\n",
    "       \n",
    "        for product in self.inventario: # creamos inventario\n",
    "                #creamos las variables a imprimir\n",
    "                product_namecap = product['nombre'].capitalize()\n",
    "                price = product['precio']\n",
    "                amount = product['cantidad']\n",
    "                print(f'Nombre: {product_namecap}, Precio: ${price}, Cantidad: {amount}')\n",
    "                \n",
    "\n",
    "        while True: #creamos bucle while\n",
    "            #preguntamos al usuario el producto o si quiere seguir comprando\n",
    "            purchase = input(f'¿Qué producto quieres comprar o indica \"salir\" si no quieres seguir comprando?')\n",
    "            if purchase.lower() == 'salir': \n",
    "                break #cerramoes el bucle porque no quiere seguir comprando\n",
    "\n",
    "            for product in self.inventario:\n",
    "                if purchase.lower() == product['nombre']: #comprobamos que el producto está en inventario\n",
    "                    if product['cantidad'] > 0: #comprobamos que haya stock de producto\n",
    "                        product['cantidad'] -=1 # restamos el producto del inventario\n",
    "                        carrito.append(purchase) # Incluimos el producto  y su precio en la cesta\n",
    "                        precios.append(product['precio']) # agregamos precio a la lista para sumar el total\n",
    "                        print (f'El producto {purchase} se ha añadido a la cesta. Quedan {product[\"cantidad\"]} de {purchase} en stock' )\n",
    "                    else:\n",
    "                        print(f'el producto {purchase} no está disponible')\n",
    "                    break\n",
    "                \n",
    "            else:  \n",
    "                print(f'El producto {purchase} no está disponible') \n",
    "        \n",
    "        total_import= sum(precios) # sumamos los importes de los artíacuos de la compra\n",
    "        print(f'Tu carrito contiene los siguientes productos {carrito} con un valor total de ${total_import}')\n",
    "\n",
    "\n",
    "                    \n",
    "\n",
    "\n",
    "\n",
    "            \n",
    "        \n",
    "        \n",
    "        \n",
    "\n",
    "         \n",
    "           \n",
    "        "
   ]
  },
  {
   "cell_type": "code",
   "execution_count": 17,
   "metadata": {},
   "outputs": [
    {
     "name": "stdout",
     "output_type": "stream",
     "text": [
      "Hemos insertado  2 unidades de xbox en el inventarios con precio de 300 \n"
     ]
    }
   ],
   "source": [
    "mitienda = TiendaOnline()\n",
    "\n",
    "mitienda.agregar_producto('xbox', 300, 2)\n",
    "\n",
    "\n"
   ]
  },
  {
   "cell_type": "code",
   "execution_count": 18,
   "metadata": {},
   "outputs": [
    {
     "name": "stdout",
     "output_type": "stream",
     "text": [
      "El producto xbox ya existe en el inventario. Actualizamos su cantidad a 50\n",
      "Hemos insertado  20 unidades de ps5 en el inventarios con precio de 512 \n",
      "Hemos insertado  25 unidades de nintendo en el inventarios con precio de 219 \n",
      "Hemos insertado  25 unidades de ps4 en el inventarios con precio de 219 \n"
     ]
    }
   ],
   "source": [
    "mitienda.agregar_producto('xbox', 558, 50)\n",
    "mitienda.agregar_producto('ps5', 512, 20)\n",
    "mitienda.agregar_producto('nintendo', 219, 25)\n",
    "mitienda.agregar_producto('ps4', 219, 25)"
   ]
  },
  {
   "cell_type": "code",
   "execution_count": null,
   "metadata": {},
   "outputs": [],
   "source": [
    "mitienda.ver_inventario()"
   ]
  },
  {
   "cell_type": "code",
   "execution_count": null,
   "metadata": {},
   "outputs": [],
   "source": [
    "mitienda.buscar_producto('mando')"
   ]
  },
  {
   "cell_type": "code",
   "execution_count": null,
   "metadata": {},
   "outputs": [],
   "source": [
    "mitienda.actualizar_stock('xbox')"
   ]
  },
  {
   "cell_type": "code",
   "execution_count": null,
   "metadata": {},
   "outputs": [],
   "source": [
    "mitienda.eliminar_producto('mando')\n",
    "mitienda.eliminar_producto('ps4')"
   ]
  },
  {
   "cell_type": "code",
   "execution_count": null,
   "metadata": {},
   "outputs": [],
   "source": [
    "mitienda.ver_inventario()"
   ]
  },
  {
   "cell_type": "code",
   "execution_count": 49,
   "metadata": {},
   "outputs": [
    {
     "name": "stdout",
     "output_type": "stream",
     "text": [
      "El valor de xbox con 50 en stock a un precio de 300 es $15000 \n",
      "El valor de ps5 con 20 en stock a un precio de 512 es $10240 \n",
      "El valor de nintendo con 25 en stock a un precio de 219 es $5475 \n",
      "El valor de ps4 con 25 en stock a un precio de 219 es $5475 \n",
      "El valor total del inventario $36190\n"
     ]
    }
   ],
   "source": [
    "mitienda.calcular_valor_inventario()\n"
   ]
  },
  {
   "cell_type": "code",
   "execution_count": 19,
   "metadata": {},
   "outputs": [
    {
     "name": "stdout",
     "output_type": "stream",
     "text": [
      "Nombre: Xbox, Precio: $300, Cantidad: 50\n",
      "Nombre: Ps5, Precio: $512, Cantidad: 20\n",
      "Nombre: Nintendo, Precio: $219, Cantidad: 25\n",
      "Nombre: Ps4, Precio: $219, Cantidad: 25\n",
      "el producto hola no está disponible\n",
      "El producto nintendo se ha añadido a la cesta. Quedan 24 de nintendo en stock\n",
      "El producto xbox se ha añadido a la cesta. Quedan 49 de xbox en stock\n",
      "El producto ps4 se ha añadido a la cesta. Quedan 24 de ps4 en stock\n",
      "Tu carrito contiene los siguientes productos ['nintendo', 'xbox', 'ps4'] con un valor total de $738\n"
     ]
    }
   ],
   "source": [
    "mitienda.realizar_compra()"
   ]
  }
 ],
 "metadata": {
  "kernelspec": {
   "display_name": "base",
   "language": "python",
   "name": "python3"
  },
  "language_info": {
   "codemirror_mode": {
    "name": "ipython",
    "version": 3
   },
   "file_extension": ".py",
   "mimetype": "text/x-python",
   "name": "python",
   "nbconvert_exporter": "python",
   "pygments_lexer": "ipython3",
   "version": "3.11.7"
  }
 },
 "nbformat": 4,
 "nbformat_minor": 2
}
