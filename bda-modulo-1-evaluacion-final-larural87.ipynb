{
 "cells": [
  {
   "cell_type": "markdown",
   "metadata": {},
   "source": [
    "## Ejercicio Evaluación Laura López"
   ]
  },
  {
   "cell_type": "code",
   "execution_count": 420,
   "metadata": {},
   "outputs": [],
   "source": [
    "class TiendaOnline:\n",
    "\n",
    "    def __init__(self):\n",
    "       \n",
    "    # Establecemos atributos\n",
    "        self.inventario = [] # lista de diccionarios representado como un diccionario con las siguientes claves:  'nombre' ,  'precio' , y  'cantidad\n",
    "        self.clientes = {} # Cada cliente debe ser representado como un diccionario con las siguientes claves:  'nombre'  y  'email y un historial de compras\n",
    "        self.ventas_totales = float(0.0) # numero de ventas totales en Float\n",
    "\n",
    "    # Establecemos métodos\n",
    "\n",
    "\n",
    "    # Agregar Producto\n",
    "    def agregar_producto(self, nombre, precio, cantidad):\n",
    "        #creamos diccionario para nuevo producto\n",
    "        new_product = {'nombre': nombre, 'precio': precio, 'cantidad': cantidad} \n",
    "        \n",
    "        #comprobamos que el producto está en el inventario \n",
    "        for producto in self.inventario:\n",
    "            if producto['nombre'] == nombre:\n",
    "                producto['cantidad'] = cantidad #en el caso que quisieras actualizar sumando += cantidad\n",
    "                print(f'El producto {nombre} ya existe en el inventario. Actualizamos su cantidad a {cantidad}')\n",
    "                break # rompemos el bucle for\n",
    "\n",
    "        else:\n",
    "             # Si no está en el inventario incorporamos el producto en el inventario \n",
    "            self.inventario.append(new_product)\n",
    "            print(f'Hemos insertado  {cantidad} unidades de {nombre} en el inventarios con precio de {precio} ')\n",
    "\n",
    "    def ver_inventario(self):\n",
    "        for inventory in self.inventario: # creamos inventario\n",
    "            #creamos las variables a imprimir\n",
    "            product_name = inventory['nombre'].capitalize()\n",
    "            price = inventory['precio']\n",
    "            amount = inventory['cantidad']\n",
    "            print(f'Nombre: {product_name}, Precio: ${price}, Cantidad: {amount}')\n",
    "             \n",
    "    def buscar_producto(self, nombre):\n",
    "        #usamos el bucle for para recorrer el inventario\n",
    "        for product in self.inventario:\n",
    "            # creamos variables para imprimir \n",
    "            product_name = product['nombre'].capitalize()\n",
    "            price = product['precio']\n",
    "            amount = product['cantidad']\n",
    "            # comprobamos que el producto está en self.inventario\n",
    "            if product['nombre'] == nombre:\n",
    "                print(f'Nombre: {product_name}, Precio: ${price}, Cantidad: {amount}') \n",
    "                break #rompemos el bucle for\n",
    "        else:\n",
    "                print(f'El producto {nombre} no está en el inventario')\n",
    "\n",
    "    def actualizar_stock(self, nombre):\n",
    "        #usamos el bucle for para recorrer el inventario\n",
    "        for product in self.inventario:\n",
    "             # comprobamos que el producto está en self.inventario\n",
    "             if product['nombre'] == nombre:\n",
    "                useramount = int(input(f'Indica cantidad de producto {nombre} que quieres añadir o quitar'))\n",
    "                #sumamos al stock la cantidad de producto proporcionada por el usuario\n",
    "                cantidad = product['cantidad'] \n",
    "                cantidad += int(useramount)\n",
    "                print(f'Se ha actualizado el stock de {nombre}, la cantidad actual es {cantidad}')  \n",
    "                break    \n",
    "        else: \n",
    "            print(f'El producto {nombre} no está en el inventario')\n",
    "\n",
    "    \n",
    "    def eliminar_producto(self, nombre):\n",
    "        #usamos el bucle for para recorrer el inventario\n",
    "        for product in self.inventario:\n",
    "            if product['nombre'] == nombre:\n",
    "                self.inventario.remove(product)\n",
    "                print(f'Se ha eliminado {nombre} del inventario')\n",
    "                break\n",
    "        else:\n",
    "            print(f'No se ha encontrado nombre en el inventario')\n",
    "\n",
    "    def calcular_valor_inventario(self):\n",
    "        # definimos una lista para almacenar el valor total\n",
    "        valor_inventario =[]\n",
    "        for product in self.inventario:\n",
    "            #creamos variables para el print y el cálculo de cada producto\n",
    "            nombre = product['nombre']\n",
    "            cantidad = product['cantidad']\n",
    "            price = product['precio']\n",
    "            valor_product = cantidad * price #Calculamos el valor de cada producto\n",
    "            print(f'El valor de {nombre} con {cantidad} en stock a un precio de {price} es ${valor_product} ')\n",
    "\n",
    "            valor_inventario.append(valor_product) #añadimos el valor total de producto a la lista creada valor de inventario  \n",
    "\n",
    "        Total_inventario = sum(valor_inventario) #sumamos todos los valores de la lista\n",
    "        print(f'El valor total del inventario ${Total_inventario}')\n",
    "\n",
    "    def realizar_compra(self):\n",
    "        carrito = []\n",
    "        precios = []\n",
    "       \n",
    "        for product in self.inventario: # creamos inventario\n",
    "                #creamos las variables a imprimir\n",
    "                product_namecap = product['nombre'].capitalize()\n",
    "                price = product['precio']\n",
    "                amount = product['cantidad']\n",
    "                print(f'Nombre: {product_namecap}, Precio: ${price}, Cantidad: {amount}')\n",
    "                \n",
    "\n",
    "        while True: #creamos bucle while\n",
    "            #preguntamos al usuario el producto o si quiere seguir comprando\n",
    "            purchase = input(f'¿Qué producto quieres comprar o indica \"salir\" si no quieres seguir comprando?')\n",
    "            if purchase.lower() == 'salir': \n",
    "                break #cerramoes el bucle porque no quiere seguir comprando\n",
    "\n",
    "            for product in self.inventario:\n",
    "                if purchase.lower() == product['nombre']: #comprobamos que el producto está en inventario\n",
    "                    if product['cantidad'] > 0: #comprobamos que haya stock de producto\n",
    "                        product['cantidad'] -=1 # restamos el producto del inventario\n",
    "                        carrito.append(purchase) # Incluimos el producto  y su precio en la cesta\n",
    "                        precios.append(product['precio']) # agregamos precio a la lista para sumar el total\n",
    "                        print (f'El producto {purchase} se ha añadido a la cesta. Quedan {product[\"cantidad\"]} de {purchase} en stock' )\n",
    "                    else:\n",
    "                        print(f'el producto {purchase} no está disponible')\n",
    "                    break #rompemos bucle\n",
    "                \n",
    "            else:  \n",
    "                print(f'El producto {purchase} no está disponible') \n",
    "        \n",
    "        total_import= sum(precios) # sumamos los importes de los artíacuos de la compra\n",
    "        print(f'Tu carrito contiene los siguientes productos {carrito} con un valor total de ${total_import}')\n",
    "\n",
    "\n",
    "\n",
    "        ## EJERCICIOS BONUS\n",
    "\n",
    "    def prcesar_pago(self):\n",
    "        \n",
    "        try: #utilizamos Try para que intente la operación\n",
    "            checkout = int(input(f'¿Cúal es el valor total de la compra?'))\n",
    "            totalpaid = int(input(f'¿Cúal es el importe total pagado?'))\n",
    "            diference = totalpaid - checkout\n",
    "            if checkout > totalpaid:\n",
    "                print(f'El pago no se ha podido realizar')\n",
    "            else:\n",
    "                print(f'El pago de ${checkout} se ha realizado correctamente con ${totalpaid} . Tu cambio es ${diference}')\n",
    "        except: # para si existe una excepcion que no contemple el códico indique este error.\n",
    "                print(f'El valor introducido no es valido. El pago no se ha procesado')\n",
    "             \n",
    "\n",
    "    def agregar_cliente(self, nombre, email):\n",
    "\n",
    "        self.clientes.update({nombre.lower():{'email' : email}}) #Actualizamos el diccionario vacio con el formato que queremos\n",
    "        print(f'Se ha añadido el cliente {nombre} con e-mail {email}') #Imprmimos que hemos registrado al cliente correctamente\n",
    "       \n",
    "\n",
    "                    \n",
    "    def ver_clientes(self): \n",
    "        for cliente in self.clientes.items(): # dentro de selfcliente buscamos los datos de cliente usando bucle for\n",
    "            nombre, datos = cliente  \n",
    "            email = datos[\"email\"]\n",
    "            print(f'El nombre es {nombre.capitalize()} y el email es {email}') # imprimimos listado de clientes\n",
    "\n",
    "\n",
    "    def registrar_compra(self, nombre_cliente, carrito): \n",
    "        \n",
    "                     \n",
    "        if nombre_cliente.lower() not in self.clientes:\n",
    "            print(f'El cliente {nombre_cliente} no existe.')\n",
    "        else:\n",
    "            print(f'El cliente {nombre_cliente} existe')\n",
    "        \n",
    "            if \"compras\" not in self.clientes[nombre_cliente]:   #comprobamos que no está la clave compras\n",
    "                self.clientes[nombre_cliente][\"compras\"] = []  #creamos la clave compras\n",
    "            self.clientes[nombre_cliente][\"compras\"].append({\"compras\": carrito}) # añadimos carrito a la clave compras\n",
    "            \n",
    "            print(f'Se ha añadido la compra  {carrito} al cliente {nombre_cliente}') #Imprmimos que hemos registrado al cliente correctamente\n",
    "            \n",
    "\n",
    "    def ver_compras_cliente(self, nombre_cliente):\n",
    "        if nombre_cliente.lower() not in self.clientes:\n",
    "            print(f'El cliente {nombre_cliente} no existe.')\n",
    "        else:    \n",
    "           datos = self.clientes[nombre_cliente]  # Accedemos directamente a los datos del cliente\n",
    "           email = datos.get(\"email\", \"No disponible\") #recogemos e-mail\n",
    "           carrito = datos.get(\"compras\", \"No hay historial de compras\") #recogemos compras\n",
    "           \n",
    "        \n",
    "          \n",
    "           print(f'El nombre es {nombre_cliente.capitalize()} y el email es {email} y su historial de compras es {carrito} ')\n",
    "\n",
    "                \n",
    "    \n",
    "\n",
    "\n",
    "        \n",
    "\n",
    "         \n",
    "mitienda = TiendaOnline()           \n",
    "        "
   ]
  },
  {
   "cell_type": "code",
   "execution_count": 423,
   "metadata": {},
   "outputs": [
    {
     "name": "stdout",
     "output_type": "stream",
     "text": [
      "El producto xbox ya existe en el inventario. Actualizamos su cantidad a 2\n"
     ]
    }
   ],
   "source": [
    "\n",
    "\n",
    "mitienda.agregar_producto('xbox', 300, 2)\n",
    "\n",
    "\n"
   ]
  },
  {
   "cell_type": "code",
   "execution_count": 424,
   "metadata": {},
   "outputs": [
    {
     "name": "stdout",
     "output_type": "stream",
     "text": [
      "El producto xbox ya existe en el inventario. Actualizamos su cantidad a 50\n",
      "El producto ps5 ya existe en el inventario. Actualizamos su cantidad a 20\n",
      "El producto nintendo ya existe en el inventario. Actualizamos su cantidad a 25\n",
      "El producto ps4 ya existe en el inventario. Actualizamos su cantidad a 25\n"
     ]
    }
   ],
   "source": [
    "mitienda.agregar_producto('xbox', 558, 50)\n",
    "mitienda.agregar_producto('ps5', 512, 20)\n",
    "mitienda.agregar_producto('nintendo', 219, 25)\n",
    "mitienda.agregar_producto('ps4', 219, 25)"
   ]
  },
  {
   "cell_type": "code",
   "execution_count": 427,
   "metadata": {},
   "outputs": [
    {
     "name": "stdout",
     "output_type": "stream",
     "text": [
      "Nombre: Xbox, Precio: $558, Cantidad: 50\n",
      "Nombre: Ps5, Precio: $512, Cantidad: 20\n",
      "Nombre: Nintendo, Precio: $219, Cantidad: 25\n",
      "Nombre: Ps4, Precio: $219, Cantidad: 25\n"
     ]
    }
   ],
   "source": [
    "mitienda.ver_inventario()"
   ]
  },
  {
   "cell_type": "code",
   "execution_count": 429,
   "metadata": {},
   "outputs": [
    {
     "name": "stdout",
     "output_type": "stream",
     "text": [
      "El producto mando no está en el inventario\n"
     ]
    }
   ],
   "source": [
    "mitienda.buscar_producto('mando')"
   ]
  },
  {
   "cell_type": "code",
   "execution_count": 430,
   "metadata": {},
   "outputs": [
    {
     "name": "stdout",
     "output_type": "stream",
     "text": [
      "Se ha actualizado el stock de xbox, la cantidad actual es 52\n"
     ]
    }
   ],
   "source": [
    "mitienda.actualizar_stock('xbox')"
   ]
  },
  {
   "cell_type": "code",
   "execution_count": 431,
   "metadata": {},
   "outputs": [
    {
     "name": "stdout",
     "output_type": "stream",
     "text": [
      "No se ha encontrado nombre en el inventario\n",
      "Se ha eliminado ps4 del inventario\n"
     ]
    }
   ],
   "source": [
    "mitienda.eliminar_producto('mando')\n",
    "mitienda.eliminar_producto('ps4')"
   ]
  },
  {
   "cell_type": "code",
   "execution_count": 432,
   "metadata": {},
   "outputs": [
    {
     "name": "stdout",
     "output_type": "stream",
     "text": [
      "Nombre: Xbox, Precio: $558, Cantidad: 50\n",
      "Nombre: Ps5, Precio: $512, Cantidad: 20\n",
      "Nombre: Nintendo, Precio: $219, Cantidad: 25\n"
     ]
    }
   ],
   "source": [
    "mitienda.ver_inventario()"
   ]
  },
  {
   "cell_type": "code",
   "execution_count": 433,
   "metadata": {},
   "outputs": [
    {
     "name": "stdout",
     "output_type": "stream",
     "text": [
      "El valor de xbox con 50 en stock a un precio de 558 es $27900 \n",
      "El valor de ps5 con 20 en stock a un precio de 512 es $10240 \n",
      "El valor de nintendo con 25 en stock a un precio de 219 es $5475 \n",
      "El valor total del inventario $43615\n"
     ]
    }
   ],
   "source": [
    "mitienda.calcular_valor_inventario()\n"
   ]
  },
  {
   "cell_type": "code",
   "execution_count": 434,
   "metadata": {},
   "outputs": [
    {
     "name": "stdout",
     "output_type": "stream",
     "text": [
      "Nombre: Xbox, Precio: $558, Cantidad: 50\n",
      "Nombre: Ps5, Precio: $512, Cantidad: 20\n",
      "Nombre: Nintendo, Precio: $219, Cantidad: 25\n",
      "El producto xbox se ha añadido a la cesta. Quedan 49 de xbox en stock\n",
      "El producto hola no está disponible\n",
      "Tu carrito contiene los siguientes productos ['xbox'] con un valor total de $558\n"
     ]
    }
   ],
   "source": [
    "mitienda.realizar_compra()"
   ]
  },
  {
   "cell_type": "code",
   "execution_count": 436,
   "metadata": {},
   "outputs": [
    {
     "name": "stdout",
     "output_type": "stream",
     "text": [
      "El pago de $500 se ha realizado correctamente con $600 . Tu cambio es $100\n"
     ]
    }
   ],
   "source": [
    "mitienda.prcesar_pago()\n"
   ]
  },
  {
   "cell_type": "code",
   "execution_count": 437,
   "metadata": {},
   "outputs": [
    {
     "name": "stdout",
     "output_type": "stream",
     "text": [
      "Se ha añadido el cliente Laura con e-mail laura@mitienda.com\n",
      "Se ha añadido el cliente Carla con e-mail carla@mitienda.com\n",
      "Se ha añadido el cliente Cesar con e-mail cesar@mitienda.com\n"
     ]
    }
   ],
   "source": [
    "mitienda.agregar_cliente('Laura', 'laura@mitienda.com')\n",
    "mitienda.agregar_cliente('Carla', 'carla@mitienda.com')\n",
    "mitienda.agregar_cliente('Cesar', 'cesar@mitienda.com')\n",
    "\n"
   ]
  },
  {
   "cell_type": "code",
   "execution_count": 438,
   "metadata": {},
   "outputs": [
    {
     "name": "stdout",
     "output_type": "stream",
     "text": [
      "El nombre es Laura y el email es laura@mitienda.com\n",
      "El nombre es Carla y el email es carla@mitienda.com\n",
      "El nombre es Cesar y el email es cesar@mitienda.com\n"
     ]
    }
   ],
   "source": [
    "mitienda.ver_clientes()"
   ]
  },
  {
   "cell_type": "code",
   "execution_count": 439,
   "metadata": {},
   "outputs": [
    {
     "name": "stdout",
     "output_type": "stream",
     "text": [
      "El cliente laura existe\n",
      "Se ha añadido la compra  {'XBOX': {'precio': 558, 'cantidad': 3}} al cliente laura\n",
      "El cliente juana no existe.\n"
     ]
    }
   ],
   "source": [
    "carrito = {\"XBOX\": {\"precio\": 558, \"cantidad\": 3}}\n",
    "mitienda.registrar_compra(\"laura\", carrito)\n",
    "\n",
    "carrito2 = {\"ps5\": {\"precio\": 512, \"cantidad\": 5}}\n",
    "mitienda.registrar_compra(\"juana\", carrito2)"
   ]
  },
  {
   "cell_type": "code",
   "execution_count": 440,
   "metadata": {},
   "outputs": [
    {
     "name": "stdout",
     "output_type": "stream",
     "text": [
      "El nombre es Laura y el email es laura@mitienda.com y su historial de compras es [{'compras': {'XBOX': {'precio': 558, 'cantidad': 3}}}] \n"
     ]
    }
   ],
   "source": [
    "mitienda.ver_compras_cliente(\"laura\")"
   ]
  }
 ],
 "metadata": {
  "kernelspec": {
   "display_name": "base",
   "language": "python",
   "name": "python3"
  },
  "language_info": {
   "codemirror_mode": {
    "name": "ipython",
    "version": 3
   },
   "file_extension": ".py",
   "mimetype": "text/x-python",
   "name": "python",
   "nbconvert_exporter": "python",
   "pygments_lexer": "ipython3",
   "version": "3.11.7"
  }
 },
 "nbformat": 4,
 "nbformat_minor": 2
}
